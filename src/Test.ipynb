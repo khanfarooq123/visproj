{
 "cells": [
  {
   "cell_type": "code",
   "execution_count": 1,
   "metadata": {},
   "outputs": [
    {
     "name": "stderr",
     "output_type": "stream",
     "text": [
      "[*********************100%%**********************]  1 of 1 completed\n",
      "[*********************100%%**********************]  1 of 1 completed\n",
      "[*********************100%%**********************]  1 of 1 completed\n",
      "[*********************100%%**********************]  1 of 1 completed\n",
      "[*********************100%%**********************]  1 of 1 completed\n"
     ]
    }
   ],
   "source": [
    "import yfinance as yf\n",
    "import datetime\n",
    "\n",
    "# Define the stock symbols for the top 5 tech companies\n",
    "companies = ['AAPL', 'MSFT', 'AMZN', 'GOOGL', 'META']\n",
    "\n",
    "# Define the start and end date for the year\n",
    "start_date = datetime.datetime(2022, 1, 1)\n",
    "end_date = datetime.datetime.now()\n",
    "\n",
    "# Fetch the stock data\n",
    "data = {company: yf.download(company, start=start_date, end=end_date) for company in companies}\n",
    "\n",
    "# Display the data for each company\n",
    "for company, stock_data in data.items():\n",
    "    stock_data.to_csv(\"./data/\"+company+\".csv\")"
   ]
  }
 ],
 "metadata": {
  "kernelspec": {
   "display_name": "Python 3.12.2 64-bit",
   "language": "python",
   "name": "python3"
  },
  "language_info": {
   "codemirror_mode": {
    "name": "ipython",
    "version": 3
   },
   "file_extension": ".py",
   "mimetype": "text/x-python",
   "name": "python",
   "nbconvert_exporter": "python",
   "pygments_lexer": "ipython3",
   "version": "3.12.2"
  },
  "orig_nbformat": 4,
  "vscode": {
   "interpreter": {
    "hash": "aee8b7b246df8f9039afb4144a1f6fd8d2ca17a180786b69acc140d282b71a49"
   }
  }
 },
 "nbformat": 4,
 "nbformat_minor": 2
}
